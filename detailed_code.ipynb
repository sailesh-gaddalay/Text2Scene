{
 "cells": [
  {
   "cell_type": "code",
   "execution_count": 1,
   "metadata": {},
   "outputs": [],
   "source": [
    "#reading dataset\n",
    "import pandas as pd\n",
    "\n",
    "#group multiple files\n",
    "import glob\n",
    "\n",
    "#word2vec\n",
    "import gensim.models.word2vec as w2v\n",
    "\n",
    "#concurrency\n",
    "import multiprocessing\n",
    "\n",
    "#dealing with operating system , like reading file\n",
    "import os\n",
    "\n",
    "#dimensionality reduction\n",
    "import sklearn.manifold\n",
    "\n",
    "#visualization\n",
    "import seaborn as sns\n",
    "\n",
    "#generate random numbers\n",
    "import random"
   ]
  },
  {
   "cell_type": "code",
   "execution_count": 2,
   "metadata": {
    "scrolled": false
   },
   "outputs": [
    {
     "name": "stdout",
     "output_type": "stream",
     "text": [
      "Found files:\n"
     ]
    },
    {
     "data": {
      "text/plain": [
       "['data/02691156.csv',\n",
       " 'data/02747177.csv',\n",
       " 'data/02773838.csv',\n",
       " 'data/02801938.csv',\n",
       " 'data/02808440.csv',\n",
       " 'data/02818832.csv',\n",
       " 'data/02828884.csv',\n",
       " 'data/02834778.csv',\n",
       " 'data/02843684.csv',\n",
       " 'data/02858304.csv',\n",
       " 'data/02871439.csv',\n",
       " 'data/02876657.csv',\n",
       " 'data/02880940.csv',\n",
       " 'data/02924116.csv',\n",
       " 'data/02933112.csv',\n",
       " 'data/02942699.csv',\n",
       " 'data/02946921.csv',\n",
       " 'data/02954340.csv',\n",
       " 'data/02958343.csv',\n",
       " 'data/02992529.csv',\n",
       " 'data/03001627.csv',\n",
       " 'data/03046257.csv',\n",
       " 'data/03085013.csv',\n",
       " 'data/03207941.csv',\n",
       " 'data/03211117.csv',\n",
       " 'data/03261776.csv',\n",
       " 'data/03320046.csv',\n",
       " 'data/03325088.csv',\n",
       " 'data/03337140.csv',\n",
       " 'data/03467517.csv',\n",
       " 'data/03513137.csv',\n",
       " 'data/03593526.csv',\n",
       " 'data/03624134.csv',\n",
       " 'data/03636649.csv',\n",
       " 'data/03642806.csv',\n",
       " 'data/03691459.csv',\n",
       " 'data/03710193.csv',\n",
       " 'data/03759954.csv',\n",
       " 'data/03761084.csv',\n",
       " 'data/03790512.csv',\n",
       " 'data/03797390.csv',\n",
       " 'data/03928116.csv',\n",
       " 'data/03938244.csv',\n",
       " 'data/03948459.csv',\n",
       " 'data/03991062.csv',\n",
       " 'data/04004475.csv',\n",
       " 'data/04074963.csv',\n",
       " 'data/04090263.csv',\n",
       " 'data/04099429.csv',\n",
       " 'data/04225987.csv',\n",
       " 'data/04256520.csv',\n",
       " 'data/04330267.csv',\n",
       " 'data/04379243.csv',\n",
       " 'data/04401088.csv',\n",
       " 'data/04460130.csv',\n",
       " 'data/04468005.csv',\n",
       " 'data/04530566.csv',\n",
       " 'data/04554684.csv']"
      ]
     },
     "execution_count": 2,
     "metadata": {},
     "output_type": "execute_result"
    }
   ],
   "source": [
    "file_names = sorted(glob.glob('data/*.csv'))\n",
    "\n",
    "print('Found files:')\n",
    "file_names"
   ]
  },
  {
   "cell_type": "code",
   "execution_count": 3,
   "metadata": {
    "scrolled": false
   },
   "outputs": [
    {
     "name": "stdout",
     "output_type": "stream",
     "text": [
      "data/02691156.csv ---------- 15970\n",
      "data/02747177.csv ---------- 3462\n",
      "data/02773838.csv ---------- 418\n",
      "data/02801938.csv ---------- 390\n",
      "data/02808440.csv ---------- 3430\n",
      "data/02818832.csv ---------- 692\n",
      "data/02828884.csv ---------- 2771\n",
      "data/02834778.csv ---------- 236\n",
      "data/02843684.csv ---------- 73\n",
      "data/02858304.csv ---------- 5604\n",
      "data/02871439.csv ---------- 462\n",
      "data/02876657.csv ---------- 765\n",
      "data/02880940.csv ---------- 207\n",
      "data/02924116.csv ---------- 9135\n",
      "data/02933112.csv ---------- 1693\n",
      "data/02942699.csv ---------- 222\n",
      "data/02946921.csv ---------- 172\n",
      "data/02954340.csv ---------- 101\n",
      "data/02958343.csv ---------- 19114\n",
      "data/02992529.csv ---------- 6299\n",
      "data/03001627.csv ---------- 15598\n",
      "data/03046257.csv ---------- 988\n",
      "data/03085013.csv ---------- 135\n",
      "data/03207941.csv ---------- 285\n",
      "data/03211117.csv ---------- 4128\n",
      "data/03261776.csv ---------- 292\n",
      "data/03320046.csv ---------- 2\n",
      "data/03325088.csv ---------- 2193\n",
      "data/03337140.csv ---------- 826\n",
      "data/03467517.csv ---------- 841\n",
      "data/03513137.csv ---------- 181\n",
      "data/03593526.csv ---------- 696\n",
      "data/03624134.csv ---------- 550\n",
      "data/03636649.csv ---------- 2826\n",
      "data/03642806.csv ---------- 945\n",
      "data/03691459.csv ---------- 6596\n",
      "data/03710193.csv ---------- 189\n",
      "data/03759954.csv ---------- 134\n",
      "data/03761084.csv ---------- 305\n",
      "data/03790512.csv ---------- 726\n",
      "data/03797390.csv ---------- 297\n",
      "data/03928116.csv ---------- 985\n",
      "data/03938244.csv ---------- 96\n",
      "data/03948459.csv ---------- 1192\n",
      "data/03991062.csv ---------- 1142\n",
      "data/04004475.csv ---------- 349\n",
      "data/04074963.csv ---------- 132\n",
      "data/04090263.csv ---------- 4000\n",
      "data/04099429.csv ---------- 163\n",
      "data/04225987.csv ---------- 152\n",
      "data/04256520.csv ---------- 10920\n",
      "data/04330267.csv ---------- 218\n",
      "data/04379243.csv ---------- 14632\n",
      "data/04401088.csv ---------- 7102\n",
      "data/04460130.csv ---------- 229\n",
      "data/04468005.csv ---------- 883\n",
      "data/04530566.csv ---------- 7358\n",
      "data/04554684.csv ---------- 513\n",
      "\n",
      "------------------\n",
      "TOTAL 160015 words\n",
      "------------------\n"
     ]
    }
   ],
   "source": [
    "#Copy all words (tags) describing various objects into a new big array 'sentences'.\n",
    "\n",
    "sentences = []\n",
    "total_words = 0\n",
    "\n",
    "for file_name in file_names:\n",
    "    df = pd.read_csv(file_name)\n",
    "    \n",
    "    num_of_words = 0\n",
    "\n",
    "    for index, row in df.iterrows():\n",
    "        \n",
    "        sentence = row[2].lower().split(';')\n",
    "        sentences.append(sentence)\n",
    "        \n",
    "        num_of_words += len(sentence)\n",
    "        \n",
    "    print(file_name + ' ---------- ' + str(num_of_words))\n",
    "\n",
    "    total_words += num_of_words\n",
    "    \n",
    "print('\\n------------------')\n",
    "print('TOTAL ' + str(total_words) + ' words')\n",
    "print('------------------')"
   ]
  },
  {
   "cell_type": "code",
   "execution_count": 4,
   "metadata": {},
   "outputs": [],
   "source": [
    "#Dimensionality of the resulting word vectors\n",
    "#more dimensions means more training time, but more generalized\n",
    "num_features = 300\n",
    "\n",
    "#Minimum word count threshold.\n",
    "min_word_count = 3\n",
    "\n",
    "#Number of threads to run in parallel.\n",
    "num_workers = multiprocessing.cpu_count()\n",
    "\n",
    "#Context window length.\n",
    "context_size = 7\n",
    "\n",
    "#Downsample setting for frequent words.\n",
    "#Rate: 0 to 1e-5 (How often to use?)\n",
    "downsampling = 1e-3\n",
    "\n",
    "#Seed for the RNG, to make the results reproducible.\n",
    "seed = 1"
   ]
  },
  {
   "cell_type": "code",
   "execution_count": 5,
   "metadata": {},
   "outputs": [],
   "source": [
    "text2vec = w2v.Word2Vec(\n",
    "    sg = 1,\n",
    "    seed = seed,\n",
    "    workers = num_workers,\n",
    "    size = num_features,\n",
    "    min_count = min_word_count,\n",
    "    window = context_size,\n",
    "    sample = downsampling\n",
    ")"
   ]
  },
  {
   "cell_type": "code",
   "execution_count": 6,
   "metadata": {},
   "outputs": [],
   "source": [
    "text2vec.build_vocab(sentences)"
   ]
  },
  {
   "cell_type": "code",
   "execution_count": 7,
   "metadata": {},
   "outputs": [
    {
     "name": "stdout",
     "output_type": "stream",
     "text": [
      "text2vec vocabulary length: 557\n"
     ]
    }
   ],
   "source": [
    "print('text2vec vocabulary length: ' + str(len(text2vec.wv.vocab)))"
   ]
  },
  {
   "cell_type": "code",
   "execution_count": 8,
   "metadata": {},
   "outputs": [
    {
     "name": "stderr",
     "output_type": "stream",
     "text": [
      "/Users/Sailesh/anaconda/lib/python2.7/site-packages/ipykernel_launcher.py:2: DeprecationWarning: Call to deprecated `iter` (Attribute will be removed in 4.0.0, use self.epochs instead).\n",
      "  \n"
     ]
    },
    {
     "data": {
      "text/plain": [
       "(483492, 800075)"
      ]
     },
     "execution_count": 8,
     "metadata": {},
     "output_type": "execute_result"
    }
   ],
   "source": [
    "#train model on sentneces\n",
    "text2vec.train(sentences, total_examples = text2vec.corpus_count, epochs = text2vec.iter)"
   ]
  },
  {
   "cell_type": "code",
   "execution_count": 9,
   "metadata": {},
   "outputs": [],
   "source": [
    "#save model\n",
    "if not os.path.exists(\"trained\"):\n",
    "    os.makedirs(\"trained\")\n",
    "\n",
    "text2vec.save(os.path.join(\"trained\", \"text2vec.w2v\"))"
   ]
  },
  {
   "cell_type": "code",
   "execution_count": 10,
   "metadata": {},
   "outputs": [],
   "source": [
    "#squash dimensionality to 2\n",
    "#https://www.oreilly.com/learning/an-illustrated-introduction-to-the-t-sne-algorithm\n",
    "tsne = sklearn.manifold.TSNE(n_components=2, random_state=0)"
   ]
  },
  {
   "cell_type": "code",
   "execution_count": 11,
   "metadata": {},
   "outputs": [],
   "source": [
    "#put it all into a giant matrix\n",
    "all_word_vectors_matrix = text2vec.wv.vectors"
   ]
  },
  {
   "cell_type": "code",
   "execution_count": 12,
   "metadata": {},
   "outputs": [],
   "source": [
    "#train t sne (takes time if it's a huge dataset to train)\n",
    "all_word_vectors_matrix_2d = tsne.fit_transform(all_word_vectors_matrix)"
   ]
  },
  {
   "cell_type": "code",
   "execution_count": 13,
   "metadata": {},
   "outputs": [],
   "source": [
    "#plot points in 2d space\n",
    "points = pd.DataFrame(\n",
    "    [\n",
    "        (word, coords[0], coords[1])\n",
    "        for word, coords in [\n",
    "            (word, all_word_vectors_matrix_2d[text2vec.wv.vocab[word].index])\n",
    "            for word in text2vec.wv.vocab\n",
    "        ]\n",
    "    ],\n",
    "    columns=[\"word\", \"x\", \"y\"]\n",
    ")"
   ]
  },
  {
   "cell_type": "code",
   "execution_count": 14,
   "metadata": {
    "scrolled": false
   },
   "outputs": [
    {
     "data": {
      "text/html": [
       "<div>\n",
       "<style scoped>\n",
       "    .dataframe tbody tr th:only-of-type {\n",
       "        vertical-align: middle;\n",
       "    }\n",
       "\n",
       "    .dataframe tbody tr th {\n",
       "        vertical-align: top;\n",
       "    }\n",
       "\n",
       "    .dataframe thead th {\n",
       "        text-align: right;\n",
       "    }\n",
       "</style>\n",
       "<table border=\"1\" class=\"dataframe\">\n",
       "  <thead>\n",
       "    <tr style=\"text-align: right;\">\n",
       "      <th></th>\n",
       "      <th>word</th>\n",
       "      <th>x</th>\n",
       "      <th>y</th>\n",
       "    </tr>\n",
       "  </thead>\n",
       "  <tbody>\n",
       "    <tr>\n",
       "      <th>0</th>\n",
       "      <td>coach</td>\n",
       "      <td>-28.645754</td>\n",
       "      <td>8.908619</td>\n",
       "    </tr>\n",
       "    <tr>\n",
       "      <th>1</th>\n",
       "      <td>touring car</td>\n",
       "      <td>-12.207027</td>\n",
       "      <td>15.290479</td>\n",
       "    </tr>\n",
       "    <tr>\n",
       "      <th>2</th>\n",
       "      <td>pirate ship</td>\n",
       "      <td>14.022493</td>\n",
       "      <td>21.385433</td>\n",
       "    </tr>\n",
       "    <tr>\n",
       "      <th>3</th>\n",
       "      <td>tweeter</td>\n",
       "      <td>5.347136</td>\n",
       "      <td>-31.338976</td>\n",
       "    </tr>\n",
       "    <tr>\n",
       "      <th>4</th>\n",
       "      <td>trash can</td>\n",
       "      <td>-26.948378</td>\n",
       "      <td>11.452209</td>\n",
       "    </tr>\n",
       "    <tr>\n",
       "      <th>5</th>\n",
       "      <td>chair</td>\n",
       "      <td>-19.659025</td>\n",
       "      <td>-4.275553</td>\n",
       "    </tr>\n",
       "    <tr>\n",
       "      <th>6</th>\n",
       "      <td>bomber</td>\n",
       "      <td>-22.253550</td>\n",
       "      <td>13.660645</td>\n",
       "    </tr>\n",
       "    <tr>\n",
       "      <th>7</th>\n",
       "      <td>sports car</td>\n",
       "      <td>-14.572021</td>\n",
       "      <td>13.676883</td>\n",
       "    </tr>\n",
       "    <tr>\n",
       "      <th>8</th>\n",
       "      <td>two-seater</td>\n",
       "      <td>-14.258806</td>\n",
       "      <td>12.917846</td>\n",
       "    </tr>\n",
       "    <tr>\n",
       "      <th>9</th>\n",
       "      <td>cellular telephone</td>\n",
       "      <td>-12.247216</td>\n",
       "      <td>-17.116951</td>\n",
       "    </tr>\n",
       "    <tr>\n",
       "      <th>10</th>\n",
       "      <td>taxicab</td>\n",
       "      <td>-6.535098</td>\n",
       "      <td>11.336680</td>\n",
       "    </tr>\n",
       "    <tr>\n",
       "      <th>11</th>\n",
       "      <td>cruiser</td>\n",
       "      <td>-6.264875</td>\n",
       "      <td>21.090702</td>\n",
       "    </tr>\n",
       "    <tr>\n",
       "      <th>12</th>\n",
       "      <td>air-to-air missile</td>\n",
       "      <td>3.354221</td>\n",
       "      <td>-8.029027</td>\n",
       "    </tr>\n",
       "    <tr>\n",
       "      <th>13</th>\n",
       "      <td>laser printer</td>\n",
       "      <td>5.863841</td>\n",
       "      <td>-8.799814</td>\n",
       "    </tr>\n",
       "    <tr>\n",
       "      <th>14</th>\n",
       "      <td>bed cabinet</td>\n",
       "      <td>18.522511</td>\n",
       "      <td>-3.993299</td>\n",
       "    </tr>\n",
       "    <tr>\n",
       "      <th>15</th>\n",
       "      <td>bike</td>\n",
       "      <td>0.457799</td>\n",
       "      <td>6.593743</td>\n",
       "    </tr>\n",
       "    <tr>\n",
       "      <th>16</th>\n",
       "      <td>water tap</td>\n",
       "      <td>1.509306</td>\n",
       "      <td>15.609923</td>\n",
       "    </tr>\n",
       "    <tr>\n",
       "      <th>17</th>\n",
       "      <td>sea boat</td>\n",
       "      <td>14.428908</td>\n",
       "      <td>24.081503</td>\n",
       "    </tr>\n",
       "    <tr>\n",
       "      <th>18</th>\n",
       "      <td>vase</td>\n",
       "      <td>4.550564</td>\n",
       "      <td>-12.745046</td>\n",
       "    </tr>\n",
       "    <tr>\n",
       "      <th>19</th>\n",
       "      <td>dinghy</td>\n",
       "      <td>13.052900</td>\n",
       "      <td>20.465399</td>\n",
       "    </tr>\n",
       "    <tr>\n",
       "      <th>20</th>\n",
       "      <td>surface-to-air missile</td>\n",
       "      <td>3.631856</td>\n",
       "      <td>-6.340065</td>\n",
       "    </tr>\n",
       "    <tr>\n",
       "      <th>21</th>\n",
       "      <td>headboard beds</td>\n",
       "      <td>7.828708</td>\n",
       "      <td>-5.146519</td>\n",
       "    </tr>\n",
       "    <tr>\n",
       "      <th>22</th>\n",
       "      <td>station waggon</td>\n",
       "      <td>-13.516857</td>\n",
       "      <td>19.325987</td>\n",
       "    </tr>\n",
       "    <tr>\n",
       "      <th>23</th>\n",
       "      <td>acoustic guitar</td>\n",
       "      <td>14.395446</td>\n",
       "      <td>-4.941398</td>\n",
       "    </tr>\n",
       "    <tr>\n",
       "      <th>24</th>\n",
       "      <td>settle</td>\n",
       "      <td>-11.764236</td>\n",
       "      <td>-5.316759</td>\n",
       "    </tr>\n",
       "    <tr>\n",
       "      <th>25</th>\n",
       "      <td>beacon light</td>\n",
       "      <td>2.615248</td>\n",
       "      <td>-4.918725</td>\n",
       "    </tr>\n",
       "    <tr>\n",
       "      <th>26</th>\n",
       "      <td>steeple</td>\n",
       "      <td>3.383950</td>\n",
       "      <td>-7.032395</td>\n",
       "    </tr>\n",
       "    <tr>\n",
       "      <th>27</th>\n",
       "      <td>landrover</td>\n",
       "      <td>-10.910427</td>\n",
       "      <td>16.909222</td>\n",
       "    </tr>\n",
       "    <tr>\n",
       "      <th>28</th>\n",
       "      <td>waggon</td>\n",
       "      <td>-13.666101</td>\n",
       "      <td>19.021698</td>\n",
       "    </tr>\n",
       "    <tr>\n",
       "      <th>29</th>\n",
       "      <td>zigzag chair</td>\n",
       "      <td>-17.633013</td>\n",
       "      <td>-5.178926</td>\n",
       "    </tr>\n",
       "    <tr>\n",
       "      <th>...</th>\n",
       "      <td>...</td>\n",
       "      <td>...</td>\n",
       "      <td>...</td>\n",
       "    </tr>\n",
       "    <tr>\n",
       "      <th>170</th>\n",
       "      <td>bath</td>\n",
       "      <td>-24.946953</td>\n",
       "      <td>14.803327</td>\n",
       "    </tr>\n",
       "    <tr>\n",
       "      <th>171</th>\n",
       "      <td>swivel chair</td>\n",
       "      <td>-18.874958</td>\n",
       "      <td>-4.965267</td>\n",
       "    </tr>\n",
       "    <tr>\n",
       "      <th>172</th>\n",
       "      <td>wagon</td>\n",
       "      <td>-12.976394</td>\n",
       "      <td>19.127983</td>\n",
       "    </tr>\n",
       "    <tr>\n",
       "      <th>173</th>\n",
       "      <td>spigot</td>\n",
       "      <td>1.637054</td>\n",
       "      <td>15.079839</td>\n",
       "    </tr>\n",
       "    <tr>\n",
       "      <th>174</th>\n",
       "      <td>trolleybus</td>\n",
       "      <td>-4.199431</td>\n",
       "      <td>-11.380906</td>\n",
       "    </tr>\n",
       "    <tr>\n",
       "      <th>175</th>\n",
       "      <td>beach wagon</td>\n",
       "      <td>-12.939904</td>\n",
       "      <td>18.486370</td>\n",
       "    </tr>\n",
       "    <tr>\n",
       "      <th>176</th>\n",
       "      <td>police boat</td>\n",
       "      <td>10.572722</td>\n",
       "      <td>14.266381</td>\n",
       "    </tr>\n",
       "    <tr>\n",
       "      <th>177</th>\n",
       "      <td>filing cabinet</td>\n",
       "      <td>-2.591913</td>\n",
       "      <td>-15.201872</td>\n",
       "    </tr>\n",
       "    <tr>\n",
       "      <th>178</th>\n",
       "      <td>turbofan</td>\n",
       "      <td>-10.127391</td>\n",
       "      <td>10.189189</td>\n",
       "    </tr>\n",
       "    <tr>\n",
       "      <th>179</th>\n",
       "      <td>microwave oven</td>\n",
       "      <td>-8.510367</td>\n",
       "      <td>1.506194</td>\n",
       "    </tr>\n",
       "    <tr>\n",
       "      <th>180</th>\n",
       "      <td>double-decker</td>\n",
       "      <td>-29.618937</td>\n",
       "      <td>9.554118</td>\n",
       "    </tr>\n",
       "    <tr>\n",
       "      <th>181</th>\n",
       "      <td>concert piano</td>\n",
       "      <td>-4.178137</td>\n",
       "      <td>-6.728973</td>\n",
       "    </tr>\n",
       "    <tr>\n",
       "      <th>182</th>\n",
       "      <td>file cabinet</td>\n",
       "      <td>-2.595582</td>\n",
       "      <td>-15.207233</td>\n",
       "    </tr>\n",
       "    <tr>\n",
       "      <th>183</th>\n",
       "      <td>dugout</td>\n",
       "      <td>5.327706</td>\n",
       "      <td>-2.790456</td>\n",
       "    </tr>\n",
       "    <tr>\n",
       "      <th>184</th>\n",
       "      <td>pingpong table</td>\n",
       "      <td>11.105569</td>\n",
       "      <td>-19.702803</td>\n",
       "    </tr>\n",
       "    <tr>\n",
       "      <th>185</th>\n",
       "      <td>wine bottle</td>\n",
       "      <td>1.202316</td>\n",
       "      <td>-13.184360</td>\n",
       "    </tr>\n",
       "    <tr>\n",
       "      <th>186</th>\n",
       "      <td>grandfather clock</td>\n",
       "      <td>10.939734</td>\n",
       "      <td>3.622188</td>\n",
       "    </tr>\n",
       "    <tr>\n",
       "      <th>187</th>\n",
       "      <td>washer</td>\n",
       "      <td>-5.951283</td>\n",
       "      <td>-20.466713</td>\n",
       "    </tr>\n",
       "    <tr>\n",
       "      <th>188</th>\n",
       "      <td>ballistic missile</td>\n",
       "      <td>10.451940</td>\n",
       "      <td>-4.169175</td>\n",
       "    </tr>\n",
       "    <tr>\n",
       "      <th>189</th>\n",
       "      <td>day bed</td>\n",
       "      <td>-12.110972</td>\n",
       "      <td>-2.824176</td>\n",
       "    </tr>\n",
       "    <tr>\n",
       "      <th>190</th>\n",
       "      <td>jumbo jet</td>\n",
       "      <td>1.776135</td>\n",
       "      <td>-0.191648</td>\n",
       "    </tr>\n",
       "    <tr>\n",
       "      <th>191</th>\n",
       "      <td>soup bowl</td>\n",
       "      <td>13.446409</td>\n",
       "      <td>-4.692570</td>\n",
       "    </tr>\n",
       "    <tr>\n",
       "      <th>192</th>\n",
       "      <td>sailing vessel</td>\n",
       "      <td>15.906744</td>\n",
       "      <td>23.737427</td>\n",
       "    </tr>\n",
       "    <tr>\n",
       "      <th>193</th>\n",
       "      <td>park bench</td>\n",
       "      <td>-14.220337</td>\n",
       "      <td>-4.656446</td>\n",
       "    </tr>\n",
       "    <tr>\n",
       "      <th>194</th>\n",
       "      <td>soda can</td>\n",
       "      <td>-0.100266</td>\n",
       "      <td>-5.846029</td>\n",
       "    </tr>\n",
       "    <tr>\n",
       "      <th>195</th>\n",
       "      <td>short table</td>\n",
       "      <td>14.072762</td>\n",
       "      <td>-20.988819</td>\n",
       "    </tr>\n",
       "    <tr>\n",
       "      <th>196</th>\n",
       "      <td>motorbus</td>\n",
       "      <td>-29.589279</td>\n",
       "      <td>8.831918</td>\n",
       "    </tr>\n",
       "    <tr>\n",
       "      <th>197</th>\n",
       "      <td>taxi</td>\n",
       "      <td>-6.350404</td>\n",
       "      <td>11.145679</td>\n",
       "    </tr>\n",
       "    <tr>\n",
       "      <th>198</th>\n",
       "      <td>fishing boat</td>\n",
       "      <td>15.954467</td>\n",
       "      <td>21.297813</td>\n",
       "    </tr>\n",
       "    <tr>\n",
       "      <th>199</th>\n",
       "      <td>subway train</td>\n",
       "      <td>-1.211483</td>\n",
       "      <td>-18.854607</td>\n",
       "    </tr>\n",
       "  </tbody>\n",
       "</table>\n",
       "<p>200 rows × 3 columns</p>\n",
       "</div>"
      ],
      "text/plain": [
       "                       word          x          y\n",
       "0                     coach -28.645754   8.908619\n",
       "1               touring car -12.207027  15.290479\n",
       "2               pirate ship  14.022493  21.385433\n",
       "3                   tweeter   5.347136 -31.338976\n",
       "4                 trash can -26.948378  11.452209\n",
       "5                     chair -19.659025  -4.275553\n",
       "6                    bomber -22.253550  13.660645\n",
       "7                sports car -14.572021  13.676883\n",
       "8                two-seater -14.258806  12.917846\n",
       "9        cellular telephone -12.247216 -17.116951\n",
       "10                  taxicab  -6.535098  11.336680\n",
       "11                  cruiser  -6.264875  21.090702\n",
       "12       air-to-air missile   3.354221  -8.029027\n",
       "13            laser printer   5.863841  -8.799814\n",
       "14              bed cabinet  18.522511  -3.993299\n",
       "15                     bike   0.457799   6.593743\n",
       "16                water tap   1.509306  15.609923\n",
       "17                 sea boat  14.428908  24.081503\n",
       "18                     vase   4.550564 -12.745046\n",
       "19                   dinghy  13.052900  20.465399\n",
       "20   surface-to-air missile   3.631856  -6.340065\n",
       "21           headboard beds   7.828708  -5.146519\n",
       "22           station waggon -13.516857  19.325987\n",
       "23          acoustic guitar  14.395446  -4.941398\n",
       "24                   settle -11.764236  -5.316759\n",
       "25             beacon light   2.615248  -4.918725\n",
       "26                  steeple   3.383950  -7.032395\n",
       "27                landrover -10.910427  16.909222\n",
       "28                   waggon -13.666101  19.021698\n",
       "29             zigzag chair -17.633013  -5.178926\n",
       "..                      ...        ...        ...\n",
       "170                    bath -24.946953  14.803327\n",
       "171            swivel chair -18.874958  -4.965267\n",
       "172                   wagon -12.976394  19.127983\n",
       "173                  spigot   1.637054  15.079839\n",
       "174              trolleybus  -4.199431 -11.380906\n",
       "175             beach wagon -12.939904  18.486370\n",
       "176             police boat  10.572722  14.266381\n",
       "177          filing cabinet  -2.591913 -15.201872\n",
       "178                turbofan -10.127391  10.189189\n",
       "179          microwave oven  -8.510367   1.506194\n",
       "180           double-decker -29.618937   9.554118\n",
       "181           concert piano  -4.178137  -6.728973\n",
       "182            file cabinet  -2.595582 -15.207233\n",
       "183                  dugout   5.327706  -2.790456\n",
       "184          pingpong table  11.105569 -19.702803\n",
       "185             wine bottle   1.202316 -13.184360\n",
       "186       grandfather clock  10.939734   3.622188\n",
       "187                  washer  -5.951283 -20.466713\n",
       "188       ballistic missile  10.451940  -4.169175\n",
       "189                 day bed -12.110972  -2.824176\n",
       "190               jumbo jet   1.776135  -0.191648\n",
       "191               soup bowl  13.446409  -4.692570\n",
       "192          sailing vessel  15.906744  23.737427\n",
       "193              park bench -14.220337  -4.656446\n",
       "194                soda can  -0.100266  -5.846029\n",
       "195             short table  14.072762 -20.988819\n",
       "196                motorbus -29.589279   8.831918\n",
       "197                    taxi  -6.350404  11.145679\n",
       "198            fishing boat  15.954467  21.297813\n",
       "199            subway train  -1.211483 -18.854607\n",
       "\n",
       "[200 rows x 3 columns]"
      ]
     },
     "execution_count": 14,
     "metadata": {},
     "output_type": "execute_result"
    }
   ],
   "source": [
    "points.head(200)"
   ]
  },
  {
   "cell_type": "code",
   "execution_count": 15,
   "metadata": {},
   "outputs": [
    {
     "data": {
      "text/plain": [
       "<matplotlib.axes._subplots.AxesSubplot at 0x1a21cfcf90>"
      ]
     },
     "execution_count": 15,
     "metadata": {},
     "output_type": "execute_result"
    },
    {
     "data": {
      "image/png": "[encoded data removed]",
      "text/plain": [
       "<Figure size 1440x864 with 1 Axes>"
      ]
     },
     "metadata": {},
     "output_type": "display_data"
    }
   ],
   "source": [
    "sns.set_context(\"poster\")\n",
    "\n",
    "#plot\n",
    "points.plot.scatter(\"x\", \"y\", s=10, figsize=(20, 12))"
   ]
  },
  {
   "cell_type": "code",
   "execution_count": 16,
   "metadata": {},
   "outputs": [],
   "source": [
    "#zoom in into the plot\n",
    "def plot_region(x_bounds, y_bounds):\n",
    "    slice = points[\n",
    "        (x_bounds[0] <= points.x) &\n",
    "        (points.x <= x_bounds[1]) & \n",
    "        (y_bounds[0] <= points.y) &\n",
    "        (points.y <= y_bounds[1])\n",
    "    ]\n",
    "    \n",
    "    ax = slice.plot.scatter(\"x\", \"y\", s=35, figsize=(10, 8))\n",
    "    for i, point in slice.iterrows():\n",
    "        ax.text(point.x + 0.005, point.y + 0.005, point.word, fontsize=11)"
   ]
  },
  {
   "cell_type": "code",
   "execution_count": 18,
   "metadata": {
    "scrolled": false
   },
   "outputs": [
    {
     "data": {
      "image/png": "[encoded data removed]",
      "text/plain": [
       "<Figure size 720x576 with 1 Axes>"
      ]
     },
     "metadata": {},
     "output_type": "display_data"
    }
   ],
   "source": [
    "plot_region(x_bounds=(8, 13), y_bounds=(-30, -25))"
   ]
  },
  {
   "cell_type": "code",
   "execution_count": 19,
   "metadata": {},
   "outputs": [
    {
     "data": {
      "text/plain": [
       "[('rocking chair', 0.9627920389175415),\n",
       " ('rocker', 0.9578711986541748),\n",
       " ('folding chair', 0.9499403834342957),\n",
       " ('beach chair', 0.9468148946762085),\n",
       " ('chaise', 0.9443647861480713),\n",
       " ('chaise longue', 0.9433206915855408),\n",
       " ('tulip chair', 0.9427719712257385),\n",
       " ('ball chair', 0.9418196678161621),\n",
       " ('deck chair', 0.9398950934410095),\n",
       " ('daybed', 0.9372831583023071)]"
      ]
     },
     "execution_count": 19,
     "metadata": {},
     "output_type": "execute_result"
    }
   ],
   "source": [
    "text2vec.wv.most_similar(\"chair\")"
   ]
  },
  {
   "cell_type": "code",
   "execution_count": 20,
   "metadata": {},
   "outputs": [
    {
     "data": {
      "text/plain": [
       "[('desk', 0.9749444723129272),\n",
       " ('side table', 0.9663544297218323),\n",
       " ('drawing table', 0.9653061628341675),\n",
       " ('workshop table', 0.9630077481269836),\n",
       " ('rectangular table', 0.9629335999488831),\n",
       " ('drafting table', 0.9507492184638977),\n",
       " ('cabinet table', 0.9485939741134644),\n",
       " ('worktable', 0.946897566318512),\n",
       " ('work table', 0.9399303793907166),\n",
       " ('kitchen table', 0.9369111657142639)]"
      ]
     },
     "execution_count": 20,
     "metadata": {},
     "output_type": "execute_result"
    }
   ],
   "source": [
    "text2vec.wv.most_similar(\"table\")"
   ]
  },
  {
   "cell_type": "code",
   "execution_count": 21,
   "metadata": {},
   "outputs": [
    {
     "data": {
      "text/plain": [
       "[('laptop computer', 0.6320562362670898),\n",
       " ('floor lamp', 0.6131067276000977),\n",
       " ('acoustic guitar', 0.6067026853561401),\n",
       " ('wall clock', 0.5885015726089478),\n",
       " ('alarm clock', 0.5808491706848145),\n",
       " ('alarm', 0.5783077478408813),\n",
       " ('grandfather clock', 0.5701669454574585),\n",
       " ('longcase clock', 0.568123996257782),\n",
       " ('knife', 0.5672478675842285),\n",
       " ('table lamp', 0.5584310293197632)]"
      ]
     },
     "execution_count": 21,
     "metadata": {},
     "output_type": "execute_result"
    }
   ],
   "source": [
    "text2vec.wv.most_similar(\"lamp\")"
   ]
  },
  {
   "cell_type": "code",
   "execution_count": 22,
   "metadata": {},
   "outputs": [
    {
     "data": {
      "text/plain": [
       "[('coupe', 0.9275468587875366),\n",
       " ('stock car', 0.9102864265441895),\n",
       " ('hatchback', 0.9036633968353271),\n",
       " ('hot rod', 0.9035540819168091),\n",
       " ('hot-rod', 0.9021649360656738),\n",
       " ('racer', 0.8974037170410156),\n",
       " ('limousine', 0.8903389573097229),\n",
       " ('racing car', 0.8853664994239807),\n",
       " ('race car', 0.8848546147346497),\n",
       " ('tourer', 0.8788419365882874)]"
      ]
     },
     "execution_count": 22,
     "metadata": {},
     "output_type": "execute_result"
    }
   ],
   "source": [
    "text2vec.wv.most_similar(\"car\")"
   ]
  },
  {
   "cell_type": "code",
   "execution_count": 23,
   "metadata": {},
   "outputs": [
    {
     "data": {
      "text/plain": [
       "[('handset', 0.9741607308387756),\n",
       " ('french telephone', 0.9738401770591736),\n",
       " ('desk phone', 0.9679966568946838),\n",
       " ('cell', 0.9660876393318176),\n",
       " ('cellular telephone', 0.9618216753005981),\n",
       " ('earpiece', 0.9573543071746826),\n",
       " ('computer keyboard', 0.9530268311500549),\n",
       " ('earphone', 0.9502719044685364),\n",
       " ('cellular phone', 0.9487477540969849),\n",
       " ('keypad', 0.942655622959137)]"
      ]
     },
     "execution_count": 23,
     "metadata": {},
     "output_type": "execute_result"
    }
   ],
   "source": [
    "text2vec.wv.most_similar(\"phone\")"
   ]
  },
  {
   "cell_type": "code",
   "execution_count": 24,
   "metadata": {},
   "outputs": [
    {
     "data": {
      "text/plain": [
       "[('jitney', 0.9996451139450073),\n",
       " ('motorcoach', 0.9996317028999329),\n",
       " ('double-decker', 0.9996039271354675),\n",
       " ('passenger vehi', 0.9995738863945007),\n",
       " ('omnibus', 0.9993641376495361),\n",
       " ('coach', 0.9992544054985046),\n",
       " ('motorbus', 0.9985891580581665),\n",
       " ('charabanc', 0.9984617233276367),\n",
       " ('autobus', 0.9971399903297424),\n",
       " ('can', 0.9757269620895386)]"
      ]
     },
     "execution_count": 24,
     "metadata": {},
     "output_type": "execute_result"
    }
   ],
   "source": [
    "text2vec.wv.most_similar(\"bus\")"
   ]
  },
  {
   "cell_type": "code",
   "execution_count": 25,
   "metadata": {},
   "outputs": [
    {
     "data": {
      "text/plain": [
       "[('dirt bike', 0.9632744193077087),\n",
       " ('scrambler', 0.9615655541419983),\n",
       " ('moped', 0.9575954675674438),\n",
       " ('trail bike', 0.956555187702179),\n",
       " ('cycle', 0.9371389746665955),\n",
       " ('wheel', 0.9340038299560547),\n",
       " ('bicycle', 0.9246512651443481),\n",
       " ('motorcycle', 0.8382394313812256),\n",
       " ('wide-body aircraft', 0.7615112662315369),\n",
       " ('twin-aisle airplane', 0.7564845085144043)]"
      ]
     },
     "execution_count": 25,
     "metadata": {},
     "output_type": "execute_result"
    }
   ],
   "source": [
    "text2vec.wv.most_similar(\"bike\")"
   ]
  },
  {
   "cell_type": "code",
   "execution_count": 26,
   "metadata": {},
   "outputs": [
    {
     "data": {
      "text/plain": [
       "[('small boat', 0.9960728287696838),\n",
       " ('pirate ship', 0.9895965456962585),\n",
       " ('sea boat', 0.989292562007904),\n",
       " ('canoe', 0.9889751076698303),\n",
       " ('catamaran', 0.987849771976471),\n",
       " ('dory', 0.987693190574646),\n",
       " ('clipper', 0.9874402284622192),\n",
       " ('guard boat', 0.9870436787605286),\n",
       " ('outboard', 0.987012505531311),\n",
       " ('outboard motorboat', 0.9867821335792542)]"
      ]
     },
     "execution_count": 26,
     "metadata": {},
     "output_type": "execute_result"
    }
   ],
   "source": [
    "text2vec.wv.most_similar(\"boat\")"
   ]
  },
  {
   "cell_type": "code",
   "execution_count": 27,
   "metadata": {},
   "outputs": [
    {
     "data": {
      "text/plain": [
       "[('transport airplane', 0.9993488192558289),\n",
       " ('swept wing', 0.9990774989128113),\n",
       " ('jet-propelled plane', 0.9990684390068054),\n",
       " ('airliner', 0.9990535378456116),\n",
       " ('jet', 0.998982310295105),\n",
       " ('airplane', 0.998500645160675),\n",
       " ('aeroplane', 0.998235285282135),\n",
       " ('jet plane', 0.9979612231254578),\n",
       " ('straight wing', 0.9961549043655396),\n",
       " ('propeller plane', 0.9958639740943909)]"
      ]
     },
     "execution_count": 27,
     "metadata": {},
     "output_type": "execute_result"
    }
   ],
   "source": [
    "text2vec.wv.most_similar(\"plane\")"
   ]
  },
  {
   "cell_type": "code",
   "execution_count": 28,
   "metadata": {},
   "outputs": [
    {
     "data": {
      "text/plain": [
       "[('precision rifle', 0.9941026568412781),\n",
       " ('sniper rifle', 0.9909502863883972),\n",
       " ('shooting iron', 0.9803005456924438),\n",
       " ('side arm', 0.9787512421607971),\n",
       " ('carbine', 0.9763444662094116),\n",
       " ('pistol', 0.9761303663253784),\n",
       " ('handgun', 0.9718133807182312),\n",
       " ('six-shooter', 0.9691383838653564),\n",
       " ('six-gun', 0.9669408202171326),\n",
       " ('revolver', 0.9620193839073181)]"
      ]
     },
     "execution_count": 28,
     "metadata": {},
     "output_type": "execute_result"
    }
   ],
   "source": [
    "text2vec.wv.most_similar(\"rifle\")"
   ]
  },
  {
   "cell_type": "code",
   "execution_count": 29,
   "metadata": {
    "scrolled": true
   },
   "outputs": [
    {
     "name": "stdout",
     "output_type": "stream",
     "text": [
      "data/02691156.csv ---------- 0\n",
      "data/02747177.csv ---------- 0\n",
      "data/02773838.csv ---------- 0\n",
      "data/02801938.csv ---------- 0\n",
      "data/02808440.csv ---------- 0\n",
      "data/02818832.csv ---------- 0\n",
      "data/02828884.csv ---------- 15\n",
      "data/02834778.csv ---------- 0\n",
      "data/02843684.csv ---------- 0\n",
      "data/02858304.csv ---------- 0\n",
      "data/02871439.csv ---------- 0\n",
      "data/02876657.csv ---------- 0\n",
      "data/02880940.csv ---------- 0\n",
      "data/02924116.csv ---------- 0\n",
      "data/02933112.csv ---------- 0\n",
      "data/02942699.csv ---------- 0\n",
      "data/02946921.csv ---------- 0\n",
      "data/02954340.csv ---------- 0\n",
      "data/02958343.csv ---------- 0\n",
      "data/02992529.csv ---------- 0\n",
      "data/03001627.csv ---------- 5531\n",
      "data/03046257.csv ---------- 0\n",
      "data/03085013.csv ---------- 0\n",
      "data/03207941.csv ---------- 0\n",
      "data/03211117.csv ---------- 0\n",
      "data/03261776.csv ---------- 0\n",
      "data/03320046.csv ---------- 0\n",
      "data/03325088.csv ---------- 0\n",
      "data/03337140.csv ---------- 0\n",
      "data/03467517.csv ---------- 0\n",
      "data/03513137.csv ---------- 0\n",
      "data/03593526.csv ---------- 0\n",
      "data/03624134.csv ---------- 0\n",
      "data/03636649.csv ---------- 0\n",
      "data/03642806.csv ---------- 0\n",
      "data/03691459.csv ---------- 0\n",
      "data/03710193.csv ---------- 0\n",
      "data/03759954.csv ---------- 0\n",
      "data/03761084.csv ---------- 0\n",
      "data/03790512.csv ---------- 0\n",
      "data/03797390.csv ---------- 0\n",
      "data/03928116.csv ---------- 0\n",
      "data/03938244.csv ---------- 0\n",
      "data/03948459.csv ---------- 0\n",
      "data/03991062.csv ---------- 0\n",
      "data/04004475.csv ---------- 0\n",
      "data/04074963.csv ---------- 0\n",
      "data/04090263.csv ---------- 0\n",
      "data/04099429.csv ---------- 0\n",
      "data/04225987.csv ---------- 0\n",
      "data/04256520.csv ---------- 0\n",
      "data/04330267.csv ---------- 0\n",
      "data/04379243.csv ---------- 0\n",
      "data/04401088.csv ---------- 0\n",
      "data/04460130.csv ---------- 0\n",
      "data/04468005.csv ---------- 0\n",
      "data/04530566.csv ---------- 0\n",
      "data/04554684.csv ---------- 0\n"
     ]
    }
   ],
   "source": [
    "#search for the id of object; you have the tag.\n",
    "\n",
    "input_word = 'chair'\n",
    "\n",
    "file_names = sorted(glob.glob('data/*.csv'))\n",
    "\n",
    "image_ids = []\n",
    "\n",
    "for file_name in file_names:\n",
    "    df = pd.read_csv(file_name)\n",
    "    \n",
    "    count = 0\n",
    "    for index, row in df.iterrows():\n",
    "        \n",
    "        sentence = []\n",
    "        for i in range (1, len(row)):\n",
    "            if (type(row[i]) == type('str') and len(row[i]) > 2):\n",
    "                if (row[i] != '' and row[i] != ' '):\n",
    "                    if ((row[i][0] >= 'a' and row[i][0] <='z') or (row[i][0] >= 'A' and row[i][0] <='Z')):\n",
    "                        sentence.append(row[i].lower())\n",
    "        \n",
    "            cleaned_sentence = (';'.join(sentence)).split(';')\n",
    "            sentence = cleaned_sentence\n",
    "            \n",
    "            if (input_word in sentence and row[0] not in image_ids):\n",
    "                image_ids.append(row[0])\n",
    "                count += 1\n",
    "                \n",
    "    print(file_name + ' ---------- ' + str(count))"
   ]
  },
  {
   "cell_type": "code",
   "execution_count": 30,
   "metadata": {},
   "outputs": [
    {
     "name": "stdout",
     "output_type": "stream",
     "text": [
      "3dw.d3bf9df2360f0a56731dc97277e95217\n"
     ]
    }
   ],
   "source": [
    "image_id = image_ids[random.randrange(0, len(image_ids))]\n",
    "print(image_id)"
   ]
  },
  {
   "cell_type": "code",
   "execution_count": 31,
   "metadata": {},
   "outputs": [],
   "source": [
    "#save image_id in a new file\n",
    "\n",
    "#f = open(\"image_id.txt\",\"w+\")\n",
    "#f.write(file_name + '/' + image_id)"
   ]
  },
  {
   "cell_type": "code",
   "execution_count": null,
   "metadata": {},
   "outputs": [],
   "source": []
  }
 ],
 "metadata": {
  "kernelspec": {
   "display_name": "Python 2",
   "language": "python",
   "name": "python2"
  },
  "language_info": {
   "codemirror_mode": {
    "name": "ipython",
    "version": 2
   },
   "file_extension": ".py",
   "mimetype": "text/x-python",
   "name": "python",
   "nbconvert_exporter": "python",
   "pygments_lexer": "ipython2",
   "version": "2.7.15"
  },
  "widgets": {
   "state": {},
   "version": "1.1.2"
  }
 },
 "nbformat": 4,
 "nbformat_minor": 2
}
