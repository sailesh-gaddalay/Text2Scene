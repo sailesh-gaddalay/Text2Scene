{
 "cells": [
  {
   "cell_type": "code",
   "execution_count": 1,
   "metadata": {},
   "outputs": [],
   "source": [
    "#reading dataset\n",
    "import pandas as pd\n",
    "\n",
    "#group multiple files\n",
    "import glob\n",
    "\n",
    "#word2vec\n",
    "import gensim.models.word2vec as w2v\n",
    "\n",
    "#concurrency\n",
    "import multiprocessing\n",
    "\n",
    "#dealing with operating system , like reading file\n",
    "import os\n",
    "\n",
    "#dimensionality reduction\n",
    "import sklearn.manifold\n",
    "\n",
    "#visualization\n",
    "import seaborn as sns\n",
    "\n",
    "import random"
   ]
  },
  {
   "cell_type": "code",
   "execution_count": 2,
   "metadata": {
    "scrolled": false
   },
   "outputs": [],
   "source": [
    "file_names = sorted(glob.glob('data/*.csv'))"
   ]
  },
  {
   "cell_type": "code",
   "execution_count": 3,
   "metadata": {
    "scrolled": false
   },
   "outputs": [
    {
     "name": "stdout",
     "output_type": "stream",
     "text": [
      "TOTAL 160015 words\n"
     ]
    }
   ],
   "source": [
    "#Copy all words (tags) describing various objects into a new big array 'sentences'.\n",
    "\n",
    "sentences = []\n",
    "total_words = 0\n",
    "\n",
    "for file_name in file_names:\n",
    "    df = pd.read_csv(file_name)\n",
    "    \n",
    "    num_of_words = 0\n",
    "\n",
    "    for index, row in df.iterrows():\n",
    "        \n",
    "        sentence = row[2].lower().split(';')\n",
    "        sentences.append(sentence)\n",
    "        \n",
    "        num_of_words += len(sentence)\n",
    "\n",
    "    total_words += num_of_words\n",
    "    \n",
    "print('TOTAL ' + str(total_words) + ' words')"
   ]
  },
  {
   "cell_type": "code",
   "execution_count": 4,
   "metadata": {},
   "outputs": [],
   "source": [
    "#Dimensionality of the resulting word vectors\n",
    "#more dimensions means more training time, but more generalized\n",
    "num_features = 300\n",
    "\n",
    "#Minimum word count threshold.\n",
    "min_word_count = 3\n",
    "\n",
    "#Number of threads to run in parallel.\n",
    "num_workers = multiprocessing.cpu_count()\n",
    "\n",
    "#Context window length.\n",
    "context_size = 7\n",
    "\n",
    "#Downsample setting for frequent words.\n",
    "#Rate: 0 to 1e-5 (How often to use?)\n",
    "downsampling = 1e-3\n",
    "\n",
    "#Seed for the RNG, to make the results reproducible.\n",
    "seed = 1"
   ]
  },
  {
   "cell_type": "code",
   "execution_count": 5,
   "metadata": {},
   "outputs": [],
   "source": [
    "text2vec = w2v.Word2Vec(\n",
    "    sg = 1,\n",
    "    seed = seed,\n",
    "    workers = num_workers,\n",
    "    size = num_features,\n",
    "    min_count = min_word_count,\n",
    "    window = context_size,\n",
    "    sample = downsampling\n",
    ")"
   ]
  },
  {
   "cell_type": "code",
   "execution_count": 6,
   "metadata": {},
   "outputs": [],
   "source": [
    "text2vec.build_vocab(sentences)"
   ]
  },
  {
   "cell_type": "code",
   "execution_count": 7,
   "metadata": {},
   "outputs": [
    {
     "name": "stdout",
     "output_type": "stream",
     "text": [
      "text2vec vocabulary length: 557\n"
     ]
    }
   ],
   "source": [
    "print('text2vec vocabulary length: ' + str(len(text2vec.wv.vocab)))"
   ]
  },
  {
   "cell_type": "code",
   "execution_count": 8,
   "metadata": {},
   "outputs": [
    {
     "name": "stderr",
     "output_type": "stream",
     "text": [
      "/Users/Sailesh/anaconda/lib/python2.7/site-packages/ipykernel_launcher.py:2: DeprecationWarning: Call to deprecated `iter` (Attribute will be removed in 4.0.0, use self.epochs instead).\n",
      "  \n"
     ]
    },
    {
     "data": {
      "text/plain": [
       "(482881, 800075)"
      ]
     },
     "execution_count": 8,
     "metadata": {},
     "output_type": "execute_result"
    }
   ],
   "source": [
    "#train model on sentneces\n",
    "text2vec.train(sentences, total_examples = text2vec.corpus_count, epochs = text2vec.iter)"
   ]
  },
  {
   "cell_type": "code",
   "execution_count": 9,
   "metadata": {},
   "outputs": [],
   "source": [
    "#save model\n",
    "if not os.path.exists(\"trained\"):\n",
    "    os.makedirs(\"trained\")\n",
    "\n",
    "text2vec.save(os.path.join(\"trained\", \"text2vec.w2v\"))"
   ]
  },
  {
   "cell_type": "code",
   "execution_count": 10,
   "metadata": {},
   "outputs": [],
   "source": [
    "#squash dimensionality to 2\n",
    "#https://www.oreilly.com/learning/an-illustrated-introduction-to-the-t-sne-algorithm\n",
    "tsne = sklearn.manifold.TSNE(n_components=2, random_state=0)"
   ]
  },
  {
   "cell_type": "code",
   "execution_count": 11,
   "metadata": {},
   "outputs": [],
   "source": [
    "#put it all into a giant matrix\n",
    "all_word_vectors_matrix = text2vec.wv.vectors"
   ]
  },
  {
   "cell_type": "code",
   "execution_count": 12,
   "metadata": {},
   "outputs": [],
   "source": [
    "#train t sne (takes time if it's a huge dataset to train)\n",
    "all_word_vectors_matrix_2d = tsne.fit_transform(all_word_vectors_matrix)"
   ]
  },
  {
   "cell_type": "code",
   "execution_count": 13,
   "metadata": {},
   "outputs": [],
   "source": [
    "#plot points in 2d space\n",
    "points = pd.DataFrame(\n",
    "    [\n",
    "        (word, coords[0], coords[1])\n",
    "        for word, coords in [\n",
    "            (word, all_word_vectors_matrix_2d[text2vec.wv.vocab[word].index])\n",
    "            for word in text2vec.wv.vocab\n",
    "        ]\n",
    "    ],\n",
    "    columns=[\"word\", \"x\", \"y\"]\n",
    ")"
   ]
  },
  {
   "cell_type": "code",
   "execution_count": 14,
   "metadata": {},
   "outputs": [
    {
     "data": {
      "text/plain": [
       "<matplotlib.axes._subplots.AxesSubplot at 0x1a20c17f90>"
      ]
     },
     "execution_count": 14,
     "metadata": {},
     "output_type": "execute_result"
    },
    {
     "data": {
      "image/png": "[encoded data removed]",
      "text/plain": [
       "<Figure size 1440x864 with 1 Axes>"
      ]
     },
     "metadata": {},
     "output_type": "display_data"
    }
   ],
   "source": [
    "sns.set_context(\"poster\")\n",
    "\n",
    "#plot\n",
    "points.plot.scatter(\"x\", \"y\", s=10, figsize=(20, 12))"
   ]
  },
  {
   "cell_type": "code",
   "execution_count": 15,
   "metadata": {},
   "outputs": [],
   "source": [
    "#Processing the input_sentence\n",
    "\n",
    "#split sentence into a list of words and remove unwanted words\n",
    "\n",
    "def sentence_to_wordlist(sentence):\n",
    "    words = sentence.split(' ')\n",
    "    words = [word.lower() for word in words]\n",
    "        \n",
    "    unwanted_words = set(['also', 'on', 'side', 'one', 'them', 'which', 'around', 'in', 'at', 'of', 'with', 'besides', 'only', 'kept', 'was', 'been', 'had', 'he', 'she', 'my', 'his', 'her', 'their', 'those', 'as', 'our', 'there', 'are', 'is', 'a', 'and', 'placed', 'the', 'has', 'having', 'it', 'this', 'that', 'just', 'which', 'have', 'where', 'they'])\n",
    "\n",
    "    words_list = [word for word in words if word not in unwanted_words]\n",
    "            \n",
    "    return words_list"
   ]
  },
  {
   "cell_type": "code",
   "execution_count": 16,
   "metadata": {},
   "outputs": [],
   "source": [
    "input_sentence = 'there are 2 chair in the front 1 at the '"
   ]
  },
  {
   "cell_type": "code",
   "execution_count": 109,
   "metadata": {},
   "outputs": [
    {
     "name": "stdout",
     "output_type": "stream",
     "text": [
      "['chair', 'above', 'table']\n",
      "[1, 1]\n",
      "[-6, -5]\n"
     ]
    }
   ],
   "source": [
    "words = sentence_to_wordlist(input_sentence)\n",
    "print(words)\n",
    "\n",
    "object_num = []\n",
    "object_pos = []\n",
    "\n",
    "pos = {'left':-1, 'right':-2, 'front':-3, 'back':-4, 'default':-5, 'above':-6}\n",
    "\n",
    "i = 0\n",
    "n = 1\n",
    "while i < len(words):\n",
    "    \n",
    "    if (ord(words[i][0]) > 48 and ord(words[i][0]) < 58):\n",
    "        n = int(words[i])\n",
    "        object_num.append(n)\n",
    "        \n",
    "        if (i+2 < len(words) and words[i+2] not in pos):\n",
    "            if (n == 1):\n",
    "                object_pos.append(pos['back'])\n",
    "            elif (n == 2):\n",
    "                object_pos.append(pos['left'])\n",
    "                object_pos.append(pos['right'])\n",
    "            elif (n == 3):\n",
    "                object_pos.append(pos['left'])\n",
    "                object_pos.append(pos['right'])\n",
    "                object_pos.append(pos['back'])\n",
    "            elif (n == 4):\n",
    "                object_pos.append(pos['front'])\n",
    "                object_pos.append(pos['left'])\n",
    "                object_pos.append(pos['right'])\n",
    "                object_pos.append(pos['back'])\n",
    "        elif (i+2 < len(words)):\n",
    "            for j in range(n):\n",
    "                object_pos.append(pos[words[i+2]])\n",
    "        i += 1\n",
    "        \n",
    "    elif words[i] in text2vec.wv.vocab:\n",
    "        object_num.append(1)\n",
    "        if (i+1 < len(words) and words[i+1] in pos):\n",
    "            object_pos.append(pos[words[i+1]])\n",
    "        else:\n",
    "            object_pos.append(pos['default'])\n",
    "    \n",
    "    i += 1\n",
    "    \n",
    "print(object_num)\n",
    "print(object_pos)"
   ]
  },
  {
   "cell_type": "code",
   "execution_count": 110,
   "metadata": {},
   "outputs": [
    {
     "data": {
      "text/plain": [
       "['no. 14 chair', 'work table']"
      ]
     },
     "execution_count": 110,
     "metadata": {},
     "output_type": "execute_result"
    }
   ],
   "source": [
    "words_list = [text2vec.wv.most_similar(word)[random.randrange(0,5)][0] for word in words if word in text2vec.wv.vocab]\n",
    "words_list"
   ]
  },
  {
   "cell_type": "code",
   "execution_count": 111,
   "metadata": {},
   "outputs": [],
   "source": [
    "#search for the id of object; you have the tag.\n",
    "\n",
    "def retrive_object_paths(words_list):\n",
    "    file_names = sorted(glob.glob('data/*.csv'))\n",
    "    object_paths = []\n",
    "    \n",
    "    for word in words_list:\n",
    "        ids = []\n",
    "        folders = []\n",
    "\n",
    "        for file_name in file_names:\n",
    "            df = pd.read_csv(file_name)\n",
    "\n",
    "            for index, row in df.iterrows():\n",
    "                sentence = row[2].lower().split(';')\n",
    "\n",
    "                if (word in sentence and row[0] not in ids):\n",
    "                    ids.append(row[0])\n",
    "                    folders.append(row[1])\n",
    "\n",
    "        print('\\n' + word + ' ------ ' + str(len(ids)) + ' images')\n",
    "        \n",
    "        x = random.randrange(0, len(ids))\n",
    "\n",
    "        id = ids[x][4:]\n",
    "        folder = folders[x]\n",
    "        path = '/Users/Sailesh/Documents/CS/Projects/CDSAML/text2scene/ShapeNetCore.v1/'+ folder + '/' + id + '/model.obj'\n",
    "        \n",
    "        if(';' in folder):\n",
    "            folder_list = folder.split(';')\n",
    "            for folder in folder_list:\n",
    "                path = '/Users/Sailesh/Documents/CS/Projects/CDSAML/text2scene/ShapeNetCore.v1/'+ folder + '/' + id + '/model.obj'\n",
    "                if os.path.exists(path):\n",
    "                    break\n",
    "\n",
    "        print('choosing 1 at random...')\n",
    "        print('PATH: ' + path)\n",
    "        \n",
    "        object_paths.append(path)\n",
    "        \n",
    "    return object_paths"
   ]
  },
  {
   "cell_type": "code",
   "execution_count": 112,
   "metadata": {
    "scrolled": false
   },
   "outputs": [
    {
     "name": "stdout",
     "output_type": "stream",
     "text": [
      "\n",
      "no. 14 chair ------ 11 images\n",
      "choosing 1 at random...\n",
      "PATH: /Users/Sailesh/Documents/CS/Projects/CDSAML/text2scene/ShapeNetCore.v1/03001627/6921b41c2f6916e2bea04b36c2ada3a3/model.obj\n",
      "\n",
      "work table ------ 303 images\n",
      "choosing 1 at random...\n",
      "PATH: /Users/Sailesh/Documents/CS/Projects/CDSAML/text2scene/ShapeNetCore.v1/04379243/b8ffc016a4e080a6d2e5fdcf2bc010e2/model.obj\n"
     ]
    }
   ],
   "source": [
    "paths = retrive_object_paths(words_list)"
   ]
  },
  {
   "cell_type": "code",
   "execution_count": 113,
   "metadata": {},
   "outputs": [],
   "source": [
    "#save all in a new file\n",
    "\n",
    "f = open(\"object_path.txt\",\"w\")\n",
    "\n",
    "k = 0\n",
    "for i in range(len(paths)):\n",
    "    f.write(paths[i] + '\\n')\n",
    "    f.write(str(object_num[i]) + '\\n')\n",
    "    for j in range(object_num[i]):\n",
    "        f.write(str(object_pos[j+k]) + '\\n')\n",
    "    k += j+1\n",
    "    \n",
    "f.close()"
   ]
  },
  {
   "cell_type": "code",
   "execution_count": null,
   "metadata": {},
   "outputs": [],
   "source": []
  },
  {
   "cell_type": "code",
   "execution_count": null,
   "metadata": {},
   "outputs": [],
   "source": [
    "#open blender through terminal by using subprocess\n",
    "import subprocess\n",
    "subprocess.call('/Applications/Blender/blender.app/Contents/MacOS/blender --python3 blender.py', cwd='/Users/Sailesh/Documents/CDSAML/text2image', shell=True)"
   ]
  },
  {
   "cell_type": "code",
   "execution_count": null,
   "metadata": {},
   "outputs": [],
   "source": []
  }
 ],
 "metadata": {
  "kernelspec": {
   "display_name": "Python 2",
   "language": "python",
   "name": "python2"
  },
  "language_info": {
   "codemirror_mode": {
    "name": "ipython",
    "version": 2
   },
   "file_extension": ".py",
   "mimetype": "text/x-python",
   "name": "python",
   "nbconvert_exporter": "python",
   "pygments_lexer": "ipython2",
   "version": "2.7.15"
  },
  "widgets": {
   "state": {},
   "version": "1.1.2"
  }
 },
 "nbformat": 4,
 "nbformat_minor": 2
}
